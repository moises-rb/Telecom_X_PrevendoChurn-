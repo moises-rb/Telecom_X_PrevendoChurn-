{
 "cells": [
  {
   "cell_type": "markdown",
   "id": "d9928115",
   "metadata": {},
   "source": [
    "## Importando bibliotecas | obtendo dataset inicial do projeto"
   ]
  },
  {
   "cell_type": "code",
   "execution_count": null,
   "id": "7491faca",
   "metadata": {},
   "outputs": [],
   "source": [
    "import pandas as pd"
   ]
  },
  {
   "cell_type": "code",
   "execution_count": null,
   "id": "8e1a727b",
   "metadata": {},
   "outputs": [],
   "source": [
    "url = ''"
   ]
  },
  {
   "cell_type": "code",
   "execution_count": null,
   "id": "bba1846a",
   "metadata": {},
   "outputs": [],
   "source": [
    "df = pd.read_csv(url)\n",
    "df.head()"
   ]
  }
 ],
 "metadata": {
  "kernelspec": {
   "display_name": "Python 3",
   "language": "python",
   "name": "python3"
  },
  "language_info": {
   "name": "python",
   "version": "3.10.11"
  }
 },
 "nbformat": 4,
 "nbformat_minor": 5
}
