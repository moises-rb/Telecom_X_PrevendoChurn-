{
 "cells": [
  {
   "cell_type": "code",
   "execution_count": 5,
   "id": "e63f99f4",
   "metadata": {},
   "outputs": [],
   "source": [
    "# ==============================================================================\n",
    "# Notebook 3: Otimização e Interpretação de Modelos\n",
    "# ==============================================================================\n",
    "\n",
    "# ------------------------------------------------------------------------------\n",
    "# 1. Configuração e Carregamento de Bibliotecas e Dados\n",
    "# ------------------------------------------------------------------------------\n",
    "import pandas as pd\n",
    "import numpy as np\n",
    "import joblib\n",
    "import os\n",
    "import matplotlib.pyplot as plt\n",
    "import seaborn as sns\n",
    "from sklearn.metrics import confusion_matrix, classification_report, roc_curve, roc_auc_score\n",
    "from imblearn.over_sampling import SMOTE"
   ]
  },
  {
   "cell_type": "code",
   "execution_count": 8,
   "id": "a71bc2fd",
   "metadata": {},
   "outputs": [],
   "source": [
    "# --- Definindo os caminhos conforme a estrutura de diretórios ---\n",
    "ROOT_DIR = os.path.abspath(os.path.join(os.getcwd(), '..'))\n",
    "\n",
    "PROCESSED_DATA_PATH = os.path.join(ROOT_DIR, 'data', 'processed', 'df_final_processado.csv')\n",
    "PROCESSED_SPLIT_PATH = os.path.join(ROOT_DIR, 'data', 'processed', 'split')\n",
    "BASE_MODELS_PATH = os.path.join(ROOT_DIR, 'models', 'base_models')\n",
    "FINAL_MODEL_PATH = os.path.join(ROOT_DIR, 'models', 'final_model')\n",
    "REPORTS_PATH = os.path.join(ROOT_DIR, 'reports')"
   ]
  },
  {
   "cell_type": "code",
   "execution_count": 9,
   "id": "fddf2cae",
   "metadata": {},
   "outputs": [
    {
     "name": "stdout",
     "output_type": "stream",
     "text": [
      "Carregando conjuntos de treino e teste salvos...\n",
      "✅ Dados de treino e teste carregados com sucesso.\n",
      "✅ Dados processados carregados com sucesso.\n",
      "✅ Modelo 'random_forest_base' carregado com sucesso.\n"
     ]
    }
   ],
   "source": [
    "# Criando os diretórios se não existirem\n",
    "os.makedirs(FINAL_MODEL_PATH, exist_ok=True)\n",
    "os.makedirs(REPORTS_PATH, exist_ok=True)\n",
    "\n",
    "# Carregando os conjuntos de treino e teste salvos no Notebook 2\n",
    "print(\"Carregando conjuntos de treino e teste salvos...\")\n",
    "try:\n",
    "    X_train = pd.read_csv(os.path.join(PROCESSED_SPLIT_PATH, 'X_train.csv'))\n",
    "    X_test = pd.read_csv(os.path.join(PROCESSED_SPLIT_PATH, 'X_test.csv'))\n",
    "    y_train = pd.read_csv(os.path.join(PROCESSED_SPLIT_PATH, 'y_train.csv')).squeeze()\n",
    "    y_test = pd.read_csv(os.path.join(PROCESSED_SPLIT_PATH, 'y_test.csv')).squeeze()\n",
    "    print(\"✅ Dados de treino e teste carregados com sucesso.\")\n",
    "except FileNotFoundError:\n",
    "    print(f\"❌ Erro: Arquivos de split não encontrados. Certifique-se de ter executado o Notebook 2.\")\n",
    "    X_train, X_test, y_train, y_test = None, None, None, None\n",
    "\n",
    "# Carregando o DataFrame processado (para X e y)\n",
    "try:\n",
    "    df_processed = pd.read_csv(PROCESSED_DATA_PATH)\n",
    "    print(\"✅ Dados processados carregados com sucesso.\")\n",
    "except FileNotFoundError:\n",
    "    print(f\"❌ Erro: Arquivo não encontrado em {PROCESSED_DATA_PATH}. Certifique-se de ter executado o Notebook 1.\")\n",
    "    df_processed = None\n",
    "\n",
    "if df_processed is not None:\n",
    "    # Divisão dos dados em X e y para o SMOTE\n",
    "    X = df_processed.drop(columns=['Churn'])\n",
    "    y = df_processed['Churn']\n",
    "\n",
    "    # Carregando o melhor modelo base do Notebook 2 (vamos usar o Random Forest)\n",
    "    try:\n",
    "        model_name = 'random_forest'\n",
    "        best_model = joblib.load(os.path.join(BASE_MODELS_PATH, f'{model_name}_base.pkl'))\n",
    "        print(f\"✅ Modelo '{model_name}_base' carregado com sucesso.\")\n",
    "    except FileNotFoundError:\n",
    "        print(f\"❌ Erro: Modelo '{model_name}_base.pkl' não encontrado. Certifique-se de ter executado o Notebook 2.\")\n",
    "        best_model = None"
   ]
  },
  {
   "cell_type": "code",
   "execution_count": 11,
   "id": "06455d42",
   "metadata": {},
   "outputs": [
    {
     "name": "stdout",
     "output_type": "stream",
     "text": [
      "\n",
      "Tratando o desbalanceamento de classes com SMOTE...\n",
      "✅ SMOTE aplicado. Dimensão do conjunto de treino após SMOTE:\n",
      "X_train_res: (7228, 30) | y_train_res: (7228,)\n"
     ]
    }
   ],
   "source": [
    "if best_model is not None:\n",
    "    # ------------------------------------------------------------------------------\n",
    "    # 2. Tratamento de Classes Desbalanceadas (SMOTE)\n",
    "    # ------------------------------------------------------------------------------\n",
    "    print(\"\\nTratando o desbalanceamento de classes com SMOTE...\")\n",
    "    \n",
    "    smote = SMOTE(random_state=42)\n",
    "    X_train_res, y_train_res = smote.fit_resample(X_train, y_train)\n",
    "    \n",
    "    print(\"✅ SMOTE aplicado. Dimensão do conjunto de treino após SMOTE:\")\n",
    "    print(f\"X_train_res: {X_train_res.shape} | y_train_res: {y_train_res.shape}\")"
   ]
  },
  {
   "cell_type": "code",
   "execution_count": 12,
   "id": "826fe909",
   "metadata": {},
   "outputs": [
    {
     "name": "stdout",
     "output_type": "stream",
     "text": [
      "\n",
      "Treinando o modelo com dados balanceados...\n"
     ]
    }
   ],
   "source": [
    "# ------------------------------------------------------------------------------\n",
    "# 3. Treinamento e Predição com o Modelo Otimizado\n",
    "# ------------------------------------------------------------------------------\n",
    "print(\"\\nTreinando o modelo com dados balanceados...\")\n",
    "best_model.fit(X_train_res, y_train_res)\n",
    "    \n",
    "# Predições de probabilidade no conjunto de teste\n",
    "y_pred_proba = best_model.predict_proba(X_test)[:, 1]"
   ]
  },
  {
   "cell_type": "code",
   "execution_count": 14,
   "id": "597b7cc7",
   "metadata": {},
   "outputs": [
    {
     "name": "stdout",
     "output_type": "stream",
     "text": [
      "\n",
      "Otimizando o limiar de decisão...\n"
     ]
    },
    {
     "ename": "NameError",
     "evalue": "name 'f1_score' is not defined",
     "output_type": "error",
     "traceback": [
      "\u001b[1;31m---------------------------------------------------------------------------\u001b[0m",
      "\u001b[1;31mNameError\u001b[0m                                 Traceback (most recent call last)",
      "Cell \u001b[1;32mIn[14], line 9\u001b[0m\n\u001b[0;32m      6\u001b[0m fpr, tpr, thresholds \u001b[38;5;241m=\u001b[39m roc_curve(y_test, y_pred_proba)\n\u001b[0;32m      7\u001b[0m auc \u001b[38;5;241m=\u001b[39m roc_auc_score(y_test, y_pred_proba)\n\u001b[1;32m----> 9\u001b[0m f1_scores \u001b[38;5;241m=\u001b[39m [f1_score(y_test, y_pred_proba \u001b[38;5;241m>\u001b[39m t) \u001b[38;5;28;01mfor\u001b[39;00m t \u001b[38;5;129;01min\u001b[39;00m thresholds]\n\u001b[0;32m     10\u001b[0m best_threshold \u001b[38;5;241m=\u001b[39m thresholds[np\u001b[38;5;241m.\u001b[39margmax(f1_scores)]\n\u001b[0;32m     11\u001b[0m \u001b[38;5;28mprint\u001b[39m(\u001b[38;5;124mf\u001b[39m\u001b[38;5;124m\"\u001b[39m\u001b[38;5;124m✅ Melhor limiar (threshold) encontrado (otimizando F1-Score): \u001b[39m\u001b[38;5;132;01m{\u001b[39;00mbest_threshold\u001b[38;5;132;01m:\u001b[39;00m\u001b[38;5;124m.4f\u001b[39m\u001b[38;5;132;01m}\u001b[39;00m\u001b[38;5;124m\"\u001b[39m)\n",
      "Cell \u001b[1;32mIn[14], line 9\u001b[0m, in \u001b[0;36m<listcomp>\u001b[1;34m(.0)\u001b[0m\n\u001b[0;32m      6\u001b[0m fpr, tpr, thresholds \u001b[38;5;241m=\u001b[39m roc_curve(y_test, y_pred_proba)\n\u001b[0;32m      7\u001b[0m auc \u001b[38;5;241m=\u001b[39m roc_auc_score(y_test, y_pred_proba)\n\u001b[1;32m----> 9\u001b[0m f1_scores \u001b[38;5;241m=\u001b[39m [\u001b[43mf1_score\u001b[49m(y_test, y_pred_proba \u001b[38;5;241m>\u001b[39m t) \u001b[38;5;28;01mfor\u001b[39;00m t \u001b[38;5;129;01min\u001b[39;00m thresholds]\n\u001b[0;32m     10\u001b[0m best_threshold \u001b[38;5;241m=\u001b[39m thresholds[np\u001b[38;5;241m.\u001b[39margmax(f1_scores)]\n\u001b[0;32m     11\u001b[0m \u001b[38;5;28mprint\u001b[39m(\u001b[38;5;124mf\u001b[39m\u001b[38;5;124m\"\u001b[39m\u001b[38;5;124m✅ Melhor limiar (threshold) encontrado (otimizando F1-Score): \u001b[39m\u001b[38;5;132;01m{\u001b[39;00mbest_threshold\u001b[38;5;132;01m:\u001b[39;00m\u001b[38;5;124m.4f\u001b[39m\u001b[38;5;132;01m}\u001b[39;00m\u001b[38;5;124m\"\u001b[39m)\n",
      "\u001b[1;31mNameError\u001b[0m: name 'f1_score' is not defined"
     ]
    }
   ],
   "source": [
    "# ------------------------------------------------------------------------------\n",
    "# 4. Otimização do Limiar (Threshold)\n",
    "# ------------------------------------------------------------------------------\n",
    "print(\"\\nOtimizando o limiar de decisão...\")\n",
    "    \n",
    "fpr, tpr, thresholds = roc_curve(y_test, y_pred_proba)\n",
    "auc = roc_auc_score(y_test, y_pred_proba)\n",
    "    \n",
    "f1_scores = [f1_score(y_test, y_pred_proba > t) for t in thresholds]\n",
    "best_threshold = thresholds[np.argmax(f1_scores)]\n",
    "print(f\"✅ Melhor limiar (threshold) encontrado (otimizando F1-Score): {best_threshold:.4f}\")\n",
    "\n",
    "y_pred_optimized = (y_pred_proba >= best_threshold).astype(int)"
   ]
  },
  {
   "cell_type": "code",
   "execution_count": 15,
   "id": "5d2221ad",
   "metadata": {},
   "outputs": [
    {
     "name": "stdout",
     "output_type": "stream",
     "text": [
      "\n",
      "\n",
      "--- Avaliação do Modelo Otimizado ---\n"
     ]
    },
    {
     "ename": "NameError",
     "evalue": "name 'y_pred_optimized' is not defined",
     "output_type": "error",
     "traceback": [
      "\u001b[1;31m---------------------------------------------------------------------------\u001b[0m",
      "\u001b[1;31mNameError\u001b[0m                                 Traceback (most recent call last)",
      "Cell \u001b[1;32mIn[15], line 5\u001b[0m\n\u001b[0;32m      1\u001b[0m \u001b[38;5;66;03m# ------------------------------------------------------------------------------\u001b[39;00m\n\u001b[0;32m      2\u001b[0m \u001b[38;5;66;03m# 5. Avaliação Final do Modelo Otimizado\u001b[39;00m\n\u001b[0;32m      3\u001b[0m \u001b[38;5;66;03m# ------------------------------------------------------------------------------\u001b[39;00m\n\u001b[0;32m      4\u001b[0m \u001b[38;5;28mprint\u001b[39m(\u001b[38;5;124m\"\u001b[39m\u001b[38;5;130;01m\\n\u001b[39;00m\u001b[38;5;130;01m\\n\u001b[39;00m\u001b[38;5;124m--- Avaliação do Modelo Otimizado ---\u001b[39m\u001b[38;5;124m\"\u001b[39m)\n\u001b[1;32m----> 5\u001b[0m \u001b[38;5;28mprint\u001b[39m(confusion_matrix(y_test, \u001b[43my_pred_optimized\u001b[49m))\n\u001b[0;32m      6\u001b[0m \u001b[38;5;28mprint\u001b[39m(\u001b[38;5;124m\"\u001b[39m\u001b[38;5;130;01m\\n\u001b[39;00m\u001b[38;5;124m\"\u001b[39m \u001b[38;5;241m+\u001b[39m classification_report(y_test, y_pred_optimized))\n\u001b[0;32m      7\u001b[0m \u001b[38;5;28mprint\u001b[39m(\u001b[38;5;124mf\u001b[39m\u001b[38;5;124m\"\u001b[39m\u001b[38;5;124mÁrea sob a curva (AUC): \u001b[39m\u001b[38;5;132;01m{\u001b[39;00mauc\u001b[38;5;132;01m:\u001b[39;00m\u001b[38;5;124m.4f\u001b[39m\u001b[38;5;132;01m}\u001b[39;00m\u001b[38;5;124m\"\u001b[39m)\n",
      "\u001b[1;31mNameError\u001b[0m: name 'y_pred_optimized' is not defined"
     ]
    }
   ],
   "source": [
    "# ------------------------------------------------------------------------------\n",
    "# 5. Avaliação Final do Modelo Otimizado\n",
    "# ------------------------------------------------------------------------------\n",
    "print(\"\\n\\n--- Avaliação do Modelo Otimizado ---\")\n",
    "print(confusion_matrix(y_test, y_pred_optimized))\n",
    "print(\"\\n\" + classification_report(y_test, y_pred_optimized))\n",
    "print(f\"Área sob a curva (AUC): {auc:.4f}\")\n",
    "\n",
    "# Salvando o modelo final e os relatórios\n",
    "joblib.dump(best_model, os.path.join(FINAL_MODEL_PATH, 'random_forest_final.pkl'))\n",
    "report_path = os.path.join(REPORTS_PATH, 'relatorio_otimizacao.txt')\n",
    "with open(report_path, 'w') as f:\n",
    "    f.write(\"Relatório do Modelo Final Otimizado\\n\")\n",
    "    f.write(\"-\" * 35 + \"\\n\")\n",
    "    f.write(f\"Melhor Threshold (F1-Score): {best_threshold:.4f}\\n\\n\")\n",
    "    f.write(\"Matriz de Confusão:\\n\")\n",
    "    f.write(np.array2string(confusion_matrix(y_test, y_pred_optimized)) + \"\\n\\n\")\n",
    "    f.write(\"Classification Report:\\n\")\n",
    "    f.write(classification_report(y_test, y_pred_optimized))\n",
    "print(f\"✅ Modelo final salvo em '{os.path.join(FINAL_MODEL_PATH, 'random_forest_final.pkl')}'.\")\n",
    "print(f\"✅ Relatório de otimização salvo em '{report_path}'.\")"
   ]
  },
  {
   "cell_type": "code",
   "execution_count": 16,
   "id": "fea09218",
   "metadata": {},
   "outputs": [
    {
     "name": "stdout",
     "output_type": "stream",
     "text": [
      "\n",
      "--- Análise de Importância das Features ---\n",
      "                           Feature  Importance\n",
      "4                           tenure    0.175106\n",
      "8                     TotalCharges    0.173941\n",
      "7                   MonthlyCharges    0.147675\n",
      "28     InternetService_Fiber optic    0.053770\n",
      "26  PaymentMethod_Electronic check    0.050929\n",
      "24               Contract_Two year    0.043499\n",
      "23               Contract_One year    0.025051\n",
      "0                           gender    0.024884\n",
      "2                          Partner    0.023852\n",
      "3                       Dependents    0.022469\n",
      "✅ Relatório de importância das features salvo.\n",
      "\n",
      "Processo do Notebook 3 concluído com sucesso!\n"
     ]
    }
   ],
   "source": [
    "\n",
    "\n",
    "# ------------------------------------------------------------------------------\n",
    "# 6. Interpretação do Modelo e Feature Importance\n",
    "# ------------------------------------------------------------------------------\n",
    "print(\"\\n--- Análise de Importância das Features ---\")\n",
    "if hasattr(best_model, 'feature_importances_'):\n",
    "    feature_importances = best_model.feature_importances_\n",
    "    feature_names = X.columns\n",
    "    importance_df = pd.DataFrame({\n",
    "        'Feature': feature_names,\n",
    "        'Importance': feature_importances\n",
    "    }).sort_values(by='Importance', ascending=False)\n",
    "        \n",
    "    print(importance_df.head(10))\n",
    "        \n",
    "    # Salvando a importância das features\n",
    "    importance_df.to_csv(os.path.join(REPORTS_PATH, 'feature_importance.csv'), index=False)\n",
    "    print(\"✅ Relatório de importância das features salvo.\")\n",
    "\n",
    "print(\"\\nProcesso do Notebook 3 concluído com sucesso!\")"
   ]
  }
 ],
 "metadata": {
  "kernelspec": {
   "display_name": "Python 3",
   "language": "python",
   "name": "python3"
  },
  "language_info": {
   "codemirror_mode": {
    "name": "ipython",
    "version": 3
   },
   "file_extension": ".py",
   "mimetype": "text/x-python",
   "name": "python",
   "nbconvert_exporter": "python",
   "pygments_lexer": "ipython3",
   "version": "3.10.11"
  }
 },
 "nbformat": 4,
 "nbformat_minor": 5
}
