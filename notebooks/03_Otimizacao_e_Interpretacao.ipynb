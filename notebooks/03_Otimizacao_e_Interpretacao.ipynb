{
 "cells": [
  {
   "cell_type": "code",
   "execution_count": 2,
   "id": "e63f99f4",
   "metadata": {},
   "outputs": [],
   "source": [
    "# ==============================================================================\n",
    "# Notebook 3: Otimização e Interpretação de Modelos\n",
    "# ==============================================================================\n",
    "\n",
    "# ------------------------------------------------------------------------------\n",
    "# 1. Configuração e Carregamento de Bibliotecas e Dados\n",
    "# ------------------------------------------------------------------------------\n",
    "import pandas as pd\n",
    "import numpy as np\n",
    "import joblib\n",
    "import os\n",
    "import matplotlib.pyplot as plt\n",
    "import seaborn as sns\n",
    "from sklearn.metrics import confusion_matrix, classification_report, roc_curve, roc_auc_score, f1_score\n",
    "from imblearn.over_sampling import SMOTE\n",
    "import json"
   ]
  },
  {
   "cell_type": "code",
   "execution_count": 6,
   "id": "a71bc2fd",
   "metadata": {},
   "outputs": [],
   "source": [
    "# --- Definindo os caminhos conforme a estrutura de diretórios ---\n",
    "ROOT_DIR = os.path.abspath(os.path.join(os.getcwd(), '..'))\n",
    "\n",
    "PROCESSED_DATA_PATH = os.path.join(ROOT_DIR, 'data', 'processed', 'df_final_processado.csv')\n",
    "PROCESSED_SPLIT_PATH = os.path.join(ROOT_DIR, 'data', 'processed', 'split')\n",
    "BASE_MODELS_PATH = os.path.join(ROOT_DIR, 'models', 'base_models')\n",
    "FINAL_MODEL_PATH = os.path.join(ROOT_DIR, 'models', 'final_model')\n",
    "REPORTS_PATH = os.path.join(ROOT_DIR, 'reports')"
   ]
  },
  {
   "cell_type": "code",
   "execution_count": 4,
   "id": "fddf2cae",
   "metadata": {},
   "outputs": [
    {
     "name": "stdout",
     "output_type": "stream",
     "text": [
      "Carregando conjuntos de treino e teste salvos...\n",
      "✅ Dados de treino e teste carregados com sucesso.\n"
     ]
    }
   ],
   "source": [
    "# Criando os diretórios se não existirem\n",
    "os.makedirs(FINAL_MODEL_PATH, exist_ok=True)\n",
    "os.makedirs(REPORTS_PATH, exist_ok=True)\n",
    "\n",
    "# Carregando os conjuntos de treino e teste salvos no Notebook 2\n",
    "print(\"Carregando conjuntos de treino e teste salvos...\")\n",
    "try:\n",
    "    X_train = pd.read_csv(os.path.join(PROCESSED_SPLIT_PATH, 'X_train.csv'))\n",
    "    X_test = pd.read_csv(os.path.join(PROCESSED_SPLIT_PATH, 'X_test.csv'))\n",
    "    y_train = pd.read_csv(os.path.join(PROCESSED_SPLIT_PATH, 'y_train.csv')).squeeze()\n",
    "    y_test = pd.read_csv(os.path.join(PROCESSED_SPLIT_PATH, 'y_test.csv')).squeeze()\n",
    "    print(\"✅ Dados de treino e teste carregados com sucesso.\")\n",
    "except FileNotFoundError:\n",
    "    print(f\"❌ Erro: Arquivos de split não encontrados. Certifique-se de ter executado o Notebook 2.\")\n",
    "    X_train, X_test, y_train, y_test = None, None, None, None"
   ]
  },
  {
   "cell_type": "code",
   "execution_count": 7,
   "id": "34458e0f",
   "metadata": {},
   "outputs": [
    {
     "name": "stdout",
     "output_type": "stream",
     "text": [
      "✅ Dados processados carregados com sucesso.\n",
      "✅ Modelo 'random_forest_base' carregado com sucesso.\n"
     ]
    }
   ],
   "source": [
    "# Carregando o DataFrame processado (para X e y)\n",
    "try:\n",
    "    df_processed = pd.read_csv(PROCESSED_DATA_PATH)\n",
    "    print(\"✅ Dados processados carregados com sucesso.\")\n",
    "except FileNotFoundError:\n",
    "    print(f\"❌ Erro: Arquivo não encontrado em {PROCESSED_DATA_PATH}. Certifique-se de ter executado o Notebook 1.\")\n",
    "    df_processed = None\n",
    "\n",
    "if df_processed is not None:\n",
    "    # Divisão dos dados em X e y para o SMOTE\n",
    "    X = df_processed.drop(columns=['Churn'])\n",
    "    y = df_processed['Churn']\n",
    "\n",
    "    # Carregando o melhor modelo base do Notebook 2 (vamos usar o Random Forest)\n",
    "    try:\n",
    "        model_name = 'random_forest'\n",
    "        best_model = joblib.load(os.path.join(BASE_MODELS_PATH, f'{model_name}_base.pkl'))\n",
    "        print(f\"✅ Modelo '{model_name}_base' carregado com sucesso.\")\n",
    "    except FileNotFoundError:\n",
    "        print(f\"❌ Erro: Modelo '{model_name}_base.pkl' não encontrado. Certifique-se de ter executado o Notebook 2.\")\n",
    "        best_model = None"
   ]
  },
  {
   "cell_type": "code",
   "execution_count": 8,
   "id": "06455d42",
   "metadata": {},
   "outputs": [
    {
     "name": "stdout",
     "output_type": "stream",
     "text": [
      "\n",
      "Tratando o desbalanceamento de classes com SMOTE...\n",
      "✅ SMOTE aplicado. Dimensão do conjunto de treino após SMOTE:\n",
      "X_train_res: (7228, 30) | y_train_res: (7228,)\n"
     ]
    }
   ],
   "source": [
    "if best_model is not None:\n",
    "    # ------------------------------------------------------------------------------\n",
    "    # 2. Tratamento de Classes Desbalanceadas (SMOTE)\n",
    "    # ------------------------------------------------------------------------------\n",
    "    print(\"\\nTratando o desbalanceamento de classes com SMOTE...\")\n",
    "    \n",
    "    smote = SMOTE(random_state=42)\n",
    "    X_train_res, y_train_res = smote.fit_resample(X_train, y_train)\n",
    "    \n",
    "    print(\"✅ SMOTE aplicado. Dimensão do conjunto de treino após SMOTE:\")\n",
    "    print(f\"X_train_res: {X_train_res.shape} | y_train_res: {y_train_res.shape}\")"
   ]
  },
  {
   "cell_type": "code",
   "execution_count": 9,
   "id": "826fe909",
   "metadata": {},
   "outputs": [
    {
     "name": "stdout",
     "output_type": "stream",
     "text": [
      "\n",
      "Treinando o modelo com dados balanceados...\n"
     ]
    }
   ],
   "source": [
    "# ------------------------------------------------------------------------------\n",
    "# 3. Treinamento e Predição com o Modelo Otimizado\n",
    "# ------------------------------------------------------------------------------\n",
    "print(\"\\nTreinando o modelo com dados balanceados...\")\n",
    "best_model.fit(X_train_res, y_train_res)\n",
    "    \n",
    "# Predições de probabilidade no conjunto de teste\n",
    "y_pred_proba = best_model.predict_proba(X_test)[:, 1]"
   ]
  },
  {
   "cell_type": "code",
   "execution_count": 10,
   "id": "597b7cc7",
   "metadata": {},
   "outputs": [
    {
     "name": "stdout",
     "output_type": "stream",
     "text": [
      "\n",
      "Otimizando o limiar de decisão...\n",
      "✅ Melhor limiar (threshold) encontrado (otimizando F1-Score): 0.3500\n"
     ]
    }
   ],
   "source": [
    "# ------------------------------------------------------------------------------\n",
    "# 4. Otimização do Limiar (Threshold)\n",
    "# ------------------------------------------------------------------------------\n",
    "print(\"\\nOtimizando o limiar de decisão...\")\n",
    "    \n",
    "fpr, tpr, thresholds = roc_curve(y_test, y_pred_proba)\n",
    "auc = roc_auc_score(y_test, y_pred_proba)\n",
    "    \n",
    "f1_scores = [f1_score(y_test, y_pred_proba > t) for t in thresholds]\n",
    "best_threshold = thresholds[np.argmax(f1_scores)]\n",
    "print(f\"✅ Melhor limiar (threshold) encontrado (otimizando F1-Score): {best_threshold:.4f}\")\n",
    "\n",
    "y_pred_optimized = (y_pred_proba >= best_threshold).astype(int)"
   ]
  },
  {
   "cell_type": "code",
   "execution_count": 11,
   "id": "b7fc93d1",
   "metadata": {},
   "outputs": [
    {
     "name": "stdout",
     "output_type": "stream",
     "text": [
      "\n",
      "\n",
      "--- Avaliação do Modelo Otimizado ---\n"
     ]
    }
   ],
   "source": [
    "# ------------------------------------------------------------------------------\n",
    "# 5. Avaliação Final do Modelo Otimizado\n",
    "# ------------------------------------------------------------------------------\n",
    "print(\"\\n\\n--- Avaliação do Modelo Otimizado ---\")\n",
    "    \n",
    "# Gerando as métricas de forma estruturada para salvar em JSON\n",
    "report_dict = classification_report(y_test, y_pred_optimized, output_dict=True)\n",
    "final_metrics = {\n",
    "    'accuracy': report_dict['accuracy'],\n",
    "    'precision': report_dict['macro avg']['precision'],\n",
    "    'recall': report_dict['macro avg']['recall'],\n",
    "    'f1-score': report_dict['macro avg']['f1-score'],\n",
    "    'auc_score': auc,\n",
    "    'best_threshold': best_threshold\n",
    "}"
   ]
  },
  {
   "cell_type": "code",
   "execution_count": 12,
   "id": "751c8cb2",
   "metadata": {},
   "outputs": [
    {
     "name": "stdout",
     "output_type": "stream",
     "text": [
      "Matriz de Confusão:\n",
      "[[1082  467]\n",
      " [ 106  455]]\n",
      "\n",
      "              precision    recall  f1-score   support\n",
      "\n",
      "           0       0.91      0.70      0.79      1549\n",
      "           1       0.49      0.81      0.61       561\n",
      "\n",
      "    accuracy                           0.73      2110\n",
      "   macro avg       0.70      0.75      0.70      2110\n",
      "weighted avg       0.80      0.73      0.74      2110\n",
      "\n",
      "Área sob a curva (AUC): 0.8194\n"
     ]
    }
   ],
   "source": [
    "print(\"Matriz de Confusão:\")\n",
    "print(confusion_matrix(y_test, y_pred_optimized))\n",
    "print(\"\\n\" + classification_report(y_test, y_pred_optimized))\n",
    "print(f\"Área sob a curva (AUC): {auc:.4f}\")"
   ]
  },
  {
   "cell_type": "code",
   "execution_count": 13,
   "id": "d6de3b15",
   "metadata": {},
   "outputs": [
    {
     "data": {
      "text/plain": [
       "['c:\\\\temp\\\\Telecom_X_PrevendoChurn\\\\models\\\\final_model\\\\random_forest_final.pkl']"
      ]
     },
     "execution_count": 13,
     "metadata": {},
     "output_type": "execute_result"
    }
   ],
   "source": [
    "# Salvando o modelo final e os relatórios\n",
    "joblib.dump(best_model, os.path.join(FINAL_MODEL_PATH, 'random_forest_final.pkl'))"
   ]
  },
  {
   "cell_type": "code",
   "execution_count": 14,
   "id": "53c3f9f8",
   "metadata": {},
   "outputs": [
    {
     "name": "stdout",
     "output_type": "stream",
     "text": [
      "✅ Métricas do modelo final salvas em 'c:\\temp\\Telecom_X_PrevendoChurn\\reports\\final_model_metrics.json'.\n"
     ]
    }
   ],
   "source": [
    "# Salvando as métricas em um arquivo JSON\n",
    "with open(os.path.join(REPORTS_PATH, 'final_model_metrics.json'), 'w') as f:\n",
    "    json.dump(final_metrics, f, indent=4)\n",
    "print(f\"✅ Métricas do modelo final salvas em '{os.path.join(REPORTS_PATH, 'final_model_metrics.json')}'.\")"
   ]
  },
  {
   "cell_type": "code",
   "execution_count": 16,
   "id": "5183f2c0",
   "metadata": {},
   "outputs": [
    {
     "name": "stdout",
     "output_type": "stream",
     "text": [
      "✅ Relatório de otimização salvo em 'c:\\temp\\Telecom_X_PrevendoChurn\\reports\\relatorio_otimizacao.txt'.\n"
     ]
    }
   ],
   "source": [
    "# Salvando o relatório de texto (matriz e classification_report)\n",
    "report_path = os.path.join(REPORTS_PATH, 'relatorio_otimizacao.txt')\n",
    "with open(report_path, 'w') as f:\n",
    "    f.write(\"Relatorio do Modelo Final Otimizado\\n\")\n",
    "    f.write(\"-\" * 35 + \"\\n\")\n",
    "    f.write(f\"Melhor Threshold (F1-Score): {best_threshold:.4f}\\n\\n\")\n",
    "    f.write(\"Matriz de Confusao:\\n\")\n",
    "    f.write(np.array2string(confusion_matrix(y_test, y_pred_optimized)) + \"\\n\\n\")\n",
    "    f.write(\"Classification Report:\\n\")\n",
    "    f.write(classification_report(y_test, y_pred_optimized))\n",
    "print(f\"✅ Relatório de otimização salvo em '{report_path}'.\")"
   ]
  },
  {
   "cell_type": "code",
   "execution_count": 17,
   "id": "fea09218",
   "metadata": {},
   "outputs": [
    {
     "name": "stdout",
     "output_type": "stream",
     "text": [
      "\n",
      "--- Análise de Importância das Features ---\n",
      "                           Feature  Importance\n",
      "4                           tenure    0.175106\n",
      "8                     TotalCharges    0.173941\n",
      "7                   MonthlyCharges    0.147675\n",
      "28     InternetService_Fiber optic    0.053770\n",
      "26  PaymentMethod_Electronic check    0.050929\n",
      "24               Contract_Two year    0.043499\n",
      "23               Contract_One year    0.025051\n",
      "0                           gender    0.024884\n",
      "2                          Partner    0.023852\n",
      "3                       Dependents    0.022469\n",
      "✅ Relatório de importância das features salvo.\n",
      "\n",
      "Processo do Notebook 3 concluído com sucesso!\n"
     ]
    }
   ],
   "source": [
    "# ------------------------------------------------------------------------------\n",
    "# 6. Interpretação do Modelo e Feature Importance\n",
    "# ------------------------------------------------------------------------------\n",
    "print(\"\\n--- Análise de Importância das Features ---\")\n",
    "if hasattr(best_model, 'feature_importances_'):\n",
    "    feature_importances = best_model.feature_importances_\n",
    "    feature_names = X.columns\n",
    "    importance_df = pd.DataFrame({\n",
    "        'Feature': feature_names,\n",
    "        'Importance': feature_importances\n",
    "    }).sort_values(by='Importance', ascending=False)\n",
    "        \n",
    "    print(importance_df.head(10))\n",
    "        \n",
    "    # Salvando a importância das features\n",
    "    importance_df.to_csv(os.path.join(REPORTS_PATH, 'feature_importance.csv'), index=False)\n",
    "    print(\"✅ Relatório de importância das features salvo.\")\n",
    "\n",
    "print(\"\\nProcesso do Notebook 3 concluído com sucesso!\")"
   ]
  }
 ],
 "metadata": {
  "kernelspec": {
   "display_name": "Python 3",
   "language": "python",
   "name": "python3"
  },
  "language_info": {
   "codemirror_mode": {
    "name": "ipython",
    "version": 3
   },
   "file_extension": ".py",
   "mimetype": "text/x-python",
   "name": "python",
   "nbconvert_exporter": "python",
   "pygments_lexer": "ipython3",
   "version": "3.10.11"
  }
 },
 "nbformat": 4,
 "nbformat_minor": 5
}
