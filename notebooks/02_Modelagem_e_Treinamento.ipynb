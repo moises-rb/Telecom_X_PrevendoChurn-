{
 "cells": [
  {
   "cell_type": "code",
   "execution_count": 30,
   "id": "5bd3ac22",
   "metadata": {},
   "outputs": [],
   "source": [
    "# ==============================================================================\n",
    "# Notebook 2: Modelagem e Treinamento de Modelos\n",
    "# ==============================================================================\n",
    "\n",
    "# ------------------------------------------------------------------------------\n",
    "# 1. Configuração e Carregamento de Bibliotecas e Dados\n",
    "# ------------------------------------------------------------------------------\n",
    "import pandas as pd\n",
    "import numpy as np\n",
    "import joblib\n",
    "import os\n",
    "from sklearn.model_selection import train_test_split\n",
    "from sklearn.linear_model import LogisticRegression\n",
    "from sklearn.tree import DecisionTreeClassifier\n",
    "from sklearn.ensemble import RandomForestClassifier\n",
    "from sklearn.metrics import accuracy_score, precision_score, recall_score, f1_score"
   ]
  },
  {
   "cell_type": "code",
   "execution_count": 31,
   "id": "7e8ad29a",
   "metadata": {},
   "outputs": [],
   "source": [
    "# --- Definindo os caminhos conforme a estrutura de diretórios ---\n",
    "ROOT_DIR = os.path.abspath(os.path.join(os.getcwd(), '..'))\n",
    "\n",
    "PROCESSED_DATA_PATH = os.path.join(ROOT_DIR, 'data', 'processed', 'df_final_processado.csv')\n",
    "BASE_MODELS_PATH = os.path.join(ROOT_DIR, 'models', 'base_models')\n",
    "REPORTS_PATH = os.path.join(ROOT_DIR, 'reports')\n",
    "PROCESSED_SPLIT_PATH = os.path.join(ROOT_DIR, 'data', 'processed', 'split')\n",
    "\n",
    "# Criando os diretórios se não existirem\n",
    "os.makedirs(BASE_MODELS_PATH, exist_ok=True)\n",
    "os.makedirs(REPORTS_PATH, exist_ok=True)\n",
    "os.makedirs(PROCESSED_SPLIT_PATH, exist_ok=True)"
   ]
  },
  {
   "cell_type": "code",
   "execution_count": 32,
   "id": "ddb0897a",
   "metadata": {},
   "outputs": [
    {
     "name": "stdout",
     "output_type": "stream",
     "text": [
      "Carregando dados processados do Notebook 1...\n",
      "✅ Dados carregados com sucesso.\n"
     ]
    }
   ],
   "source": [
    "# Carregando o dataset processado do Notebook 1\n",
    "print(\"Carregando dados processados do Notebook 1...\")\n",
    "try:\n",
    "    df_processed = pd.read_csv(PROCESSED_DATA_PATH)\n",
    "    print(\"✅ Dados carregados com sucesso.\")\n",
    "except FileNotFoundError:\n",
    "    print(f\"❌ Erro: Arquivo não encontrado em {PROCESSED_DATA_PATH}. Certifique-se de ter executado o Notebook 1.\")\n",
    "    df_processed = None\n",
    "\n"
   ]
  },
  {
   "cell_type": "code",
   "execution_count": 33,
   "id": "5fe5a92b",
   "metadata": {},
   "outputs": [
    {
     "name": "stdout",
     "output_type": "stream",
     "text": [
      "\n",
      "Dividindo os dados em conjuntos de treino e teste...\n",
      "✅ Dados divididos com sucesso.\n",
      "Dimensão do conjunto de treino (X_train, y_train): (4922, 30), (4922,)\n",
      "Dimensão do conjunto de teste (X_test, y_test): (2110, 30), (2110,)\n"
     ]
    }
   ],
   "source": [
    "if df_processed is not None:\n",
    "    # ------------------------------------------------------------------------------\n",
    "    # 2. Divisão dos Dados em Treino e Teste\n",
    "    # ------------------------------------------------------------------------------\n",
    "    print(\"\\nDividindo os dados em conjuntos de treino e teste...\")\n",
    "    \n",
    "    X = df_processed.drop(columns=['Churn'])\n",
    "    y = df_processed['Churn']\n",
    "    \n",
    "    X_train, X_test, y_train, y_test = train_test_split(\n",
    "        X, y,\n",
    "        test_size=0.3,\n",
    "        random_state=42,\n",
    "        stratify=y\n",
    "    )\n",
    "    print(\"✅ Dados divididos com sucesso.\")\n",
    "    print(f\"Dimensão do conjunto de treino (X_train, y_train): {X_train.shape}, {y_train.shape}\")\n",
    "    print(f\"Dimensão do conjunto de teste (X_test, y_test): {X_test.shape}, {y_test.shape}\")\n"
   ]
  },
  {
   "cell_type": "code",
   "execution_count": 34,
   "id": "a1a99e50",
   "metadata": {},
   "outputs": [
    {
     "name": "stdout",
     "output_type": "stream",
     "text": [
      "\n",
      "Salvando os conjuntos de treino e teste...\n",
      "✅ Conjuntos de treino e teste salvos com sucesso.\n"
     ]
    }
   ],
   "source": [
    "# ------------------------------------------------------------------------------\n",
    "# 3. Salvar os Dados de Treino e Teste (NOVA SEÇÃO)\n",
    "# ------------------------------------------------------------------------------\n",
    "print(\"\\nSalvando os conjuntos de treino e teste...\")\n",
    "X_train.to_csv(os.path.join(PROCESSED_SPLIT_PATH, 'X_train.csv'), index=False)\n",
    "X_test.to_csv(os.path.join(PROCESSED_SPLIT_PATH, 'X_test.csv'), index=False)\n",
    "y_train.to_csv(os.path.join(PROCESSED_SPLIT_PATH, 'y_train.csv'), index=False)\n",
    "y_test.to_csv(os.path.join(PROCESSED_SPLIT_PATH, 'y_test.csv'), index=False)\n",
    "print(\"✅ Conjuntos de treino e teste salvos com sucesso.\")"
   ]
  },
  {
   "cell_type": "code",
   "execution_count": 35,
   "id": "99cd0af1",
   "metadata": {},
   "outputs": [
    {
     "name": "stdout",
     "output_type": "stream",
     "text": [
      "\n",
      "Iniciando treinamento e avaliação dos modelos base...\n",
      "\n",
      "- Treinando Logistic Regression...\n",
      "  ✅ Modelo salvo em c:\\temp\\Telecom_X_PrevendoChurn\\models\\base_models\\logistic_regression_base.pkl.\n",
      "  Acurácia: 0.8033 | Precisão: 0.6587 | Recall: 0.5401 | F1-Score: 0.5935\n",
      "\n",
      "- Treinando Decision Tree...\n",
      "  ✅ Modelo salvo em c:\\temp\\Telecom_X_PrevendoChurn\\models\\base_models\\decision_tree_base.pkl.\n",
      "  Acurácia: 0.7265 | Precisão: 0.4863 | Recall: 0.5062 | F1-Score: 0.4961\n",
      "\n",
      "- Treinando Random Forest...\n",
      "  ✅ Modelo salvo em c:\\temp\\Telecom_X_PrevendoChurn\\models\\base_models\\random_forest_base.pkl.\n",
      "  Acurácia: 0.7853 | Precisão: 0.6292 | Recall: 0.4688 | F1-Score: 0.5373\n"
     ]
    }
   ],
   "source": [
    "# ------------------------------------------------------------------------------\n",
    "# 4. Treinamento e Avaliação dos Modelos Base\n",
    "# ------------------------------------------------------------------------------\n",
    "print(\"\\nIniciando treinamento e avaliação dos modelos base...\")\n",
    "    \n",
    "models = {\n",
    "    'Logistic Regression': LogisticRegression(random_state=42, solver='liblinear'),\n",
    "    'Decision Tree': DecisionTreeClassifier(random_state=42),\n",
    "    'Random Forest': RandomForestClassifier(random_state=42)\n",
    "}\n",
    "\n",
    "results = []\n",
    "\n",
    "for name, model in models.items():\n",
    "    print(f\"\\n- Treinando {name}...\")\n",
    "    model.fit(X_train, y_train)\n",
    "        \n",
    "    # Salvando o modelo treinado\n",
    "    model_path = os.path.join(BASE_MODELS_PATH, f'{name.replace(\" \", \"_\").lower()}_base.pkl')\n",
    "    joblib.dump(model, model_path)\n",
    "    print(f\"  ✅ Modelo salvo em {model_path}.\")\n",
    "\n",
    "    y_pred = model.predict(X_test)\n",
    "        \n",
    "    # Coletando métricas\n",
    "    accuracy = accuracy_score(y_test, y_pred)\n",
    "    precision = precision_score(y_test, y_pred)\n",
    "    recall = recall_score(y_test, y_pred)\n",
    "    f1 = f1_score(y_test, y_pred)\n",
    "\n",
    "    results.append({\n",
    "        'Modelo': name,\n",
    "        'Acuracia': accuracy,\n",
    "        'Precisao': precision,\n",
    "        'Recall': recall,\n",
    "        'F1-Score': f1\n",
    "    })\n",
    "        \n",
    "    print(f\"  Acurácia: {accuracy:.4f} | Precisão: {precision:.4f} | Recall: {recall:.4f} | F1-Score: {f1:.4f}\")"
   ]
  },
  {
   "cell_type": "code",
   "execution_count": 36,
   "id": "c264715d",
   "metadata": {},
   "outputs": [
    {
     "name": "stdout",
     "output_type": "stream",
     "text": [
      "\n",
      "Salvando os resultados da avaliação dos modelos...\n",
      "✅ Resultados salvos em c:\\temp\\Telecom_X_PrevendoChurn\\reports\\comparacao_modelos_base.csv.\n",
      "\n",
      "Processo do Notebook 2 concluído com sucesso!\n"
     ]
    }
   ],
   "source": [
    "# ------------------------------------------------------------------------------\n",
    "# 5. Salvando os Resultados da Avaliação\n",
    "# ------------------------------------------------------------------------------\n",
    "print(\"\\nSalvando os resultados da avaliação dos modelos...\")\n",
    "    \n",
    "results_df = pd.DataFrame(results)\n",
    "results_df.to_csv(os.path.join(REPORTS_PATH, 'comparacao_modelos_base.csv'), index=False)\n",
    "    \n",
    "print(f\"✅ Resultados salvos em {os.path.join(REPORTS_PATH, 'comparacao_modelos_base.csv')}.\")\n",
    "\n",
    "print(\"\\nProcesso do Notebook 2 concluído com sucesso!\")"
   ]
  }
 ],
 "metadata": {
  "kernelspec": {
   "display_name": "Python 3",
   "language": "python",
   "name": "python3"
  },
  "language_info": {
   "codemirror_mode": {
    "name": "ipython",
    "version": 3
   },
   "file_extension": ".py",
   "mimetype": "text/x-python",
   "name": "python",
   "nbconvert_exporter": "python",
   "pygments_lexer": "ipython3",
   "version": "3.10.11"
  }
 },
 "nbformat": 4,
 "nbformat_minor": 5
}
