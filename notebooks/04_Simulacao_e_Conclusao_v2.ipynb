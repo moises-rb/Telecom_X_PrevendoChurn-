{
 "cells": [
  {
   "cell_type": "code",
   "execution_count": 6,
   "id": "87f17068",
   "metadata": {},
   "outputs": [],
   "source": [
    "# ==============================================================================\n",
    "# Notebook 4 (v2): Simulação de Novos Clientes, Comparação e Conclusão\n",
    "# ==============================================================================\n",
    "\n",
    "# ------------------------------------------------------------------------------\n",
    "# 1. Configuração e Carregamento de Bibliotecas e Artefatos\n",
    "# ------------------------------------------------------------------------------\n",
    "import pandas as pd\n",
    "import numpy as np\n",
    "import joblib\n",
    "import os\n",
    "import json\n",
    "import shap\n",
    "import matplotlib.pyplot as plt"
   ]
  },
  {
   "cell_type": "code",
   "execution_count": 7,
   "id": "b402743e",
   "metadata": {},
   "outputs": [],
   "source": [
    "# --- Definindo os caminhos conforme a estrutura de diretórios ---\n",
    "ROOT_DIR = os.path.abspath(os.path.join(os.getcwd(), '..'))\n",
    "\n",
    "FINAL_MODEL_V1_PATH = os.path.join(ROOT_DIR, 'models', 'final_model', 'random_forest_final.pkl')\n",
    "FINAL_MODEL_V2_PATH = os.path.join(ROOT_DIR, 'models', 'final_model_v2', 'random_forest_final_v2.pkl')\n",
    "PREPROCESSING_PATH = os.path.join(ROOT_DIR, 'models', 'preprocessing')\n",
    "REPORTS_PATH = os.path.join(ROOT_DIR, 'reports')\n",
    "REPORTS_V2_PATH = os.path.join(ROOT_DIR, 'reports', 'v2')\n",
    "PLOTS_V2_PATH = os.path.join(ROOT_DIR, 'reports', 'v2', 'plots')\n",
    "X_TRAIN_PATH = os.path.join(ROOT_DIR, 'data', 'processed', 'split', 'X_train.csv')"
   ]
  },
  {
   "cell_type": "code",
   "execution_count": 8,
   "id": "d50f7b65",
   "metadata": {},
   "outputs": [
    {
     "name": "stdout",
     "output_type": "stream",
     "text": [
      "✅ Artefatos da versão 1 carregados.\n",
      "❌ Erro ao carregar artefatos da v2: [Errno 2] No such file or directory: 'c:\\\\temp\\\\Telecom_X_PrevendoChurn\\\\models\\\\final_model_v2\\\\random_forest_final_v2.pkl'. Certifique-se de que o novo notebook 3 foi executado.\n"
     ]
    }
   ],
   "source": [
    "# Carregando artefatos da versão 1\n",
    "try:\n",
    "    final_model_v1 = joblib.load(FINAL_MODEL_V1_PATH)\n",
    "    metrics_v1_path = os.path.join(REPORTS_PATH, 'final_model_metrics.json')\n",
    "    with open(metrics_v1_path, 'r') as f:\n",
    "        metrics_v1 = json.load(f)\n",
    "    print(\"✅ Artefatos da versão 1 carregados.\")\n",
    "except FileNotFoundError as e:\n",
    "    print(f\"❌ Erro ao carregar artefatos da v1: {e}. Certifique-se de que o notebook 3 original foi executado.\")\n",
    "    final_model_v1, metrics_v1 = None, None\n",
    "\n",
    "# Carregando artefatos da versão 2\n",
    "try:\n",
    "    final_model_v2 = joblib.load(FINAL_MODEL_V2_PATH)\n",
    "    scaler = joblib.load(os.path.join(PREPROCESSING_PATH, 'standard_scaler.pkl'))\n",
    "    label_encoder_churn = joblib.load(os.path.join(PREPROCESSING_PATH, 'label_encoder_churn.pkl'))\n",
    "    explainer_v2 = joblib.load(os.path.join(FINAL_MODEL_V2_PATH, 'shap_explainer_v2.pkl'))\n",
    "    metrics_v2_path = os.path.join(REPORTS_V2_PATH, 'final_model_metrics_v2.json')\n",
    "    with open(metrics_v2_path, 'r') as f:\n",
    "        metrics_v2 = json.load(f)\n",
    "    X_train = pd.read_csv(X_TRAIN_PATH)\n",
    "    print(\"✅ Artefatos da versão 2 e de pré-processamento carregados.\")\n",
    "except FileNotFoundError as e:\n",
    "    print(f\"❌ Erro ao carregar artefatos da v2: {e}. Certifique-se de que o novo notebook 3 foi executado.\")\n",
    "    final_model_v2, scaler, label_encoder_churn, explainer_v2, metrics_v2, X_train = [None] * 6"
   ]
  },
  {
   "cell_type": "code",
   "execution_count": 9,
   "id": "3d778c7f",
   "metadata": {},
   "outputs": [],
   "source": [
    "if final_model_v2 is not None:\n",
    "    # ------------------------------------------------------------------------------\n",
    "    # 2. Simulação de Novos Dados\n",
    "    # ------------------------------------------------------------------------------\n",
    "    print(\"\\nSimulando novos dados de clientes e fazendo previsões com a versão 2...\")\n",
    "    \n",
    "    new_customers_data = {\n",
    "        'gender': ['Female', 'Male'],\n",
    "        'SeniorCitizen': [0, 1],\n",
    "        'Partner': ['Yes', 'No'],\n",
    "        'Dependents': ['Yes', 'No'],\n",
    "        'tenure': [12, 1],\n",
    "        'PhoneService': ['Yes', 'Yes'],\n",
    "        'MultipleLines': ['Yes', 'No'],\n",
    "        'InternetService': ['Fiber optic', 'DSL'],\n",
    "        'OnlineSecurity': ['No', 'No'],\n",
    "        'OnlineBackup': ['Yes', 'No'],\n",
    "        'DeviceProtection': ['No', 'No'],\n",
    "        'TechSupport': ['No', 'No'],\n",
    "        'StreamingTV': ['Yes', 'No'],\n",
    "        'StreamingMovies': ['Yes', 'No'],\n",
    "        'Contract': ['Month-to-month', 'Month-to-month'],\n",
    "        'PaperlessBilling': ['Yes', 'No'],\n",
    "        'PaymentMethod': ['Electronic check', 'Mailed check'],\n",
    "        'MonthlyCharges': [89.0, 45.0],\n",
    "        'TotalCharges': [1068.0, 45.0]\n",
    "    }\n",
    "    \n",
    "    new_customers_df = pd.DataFrame(new_customers_data)"
   ]
  },
  {
   "cell_type": "code",
   "execution_count": 10,
   "id": "74462164",
   "metadata": {},
   "outputs": [
    {
     "ename": "NameError",
     "evalue": "name 'new_customers_df' is not defined",
     "output_type": "error",
     "traceback": [
      "\u001b[1;31m---------------------------------------------------------------------------\u001b[0m",
      "\u001b[1;31mNameError\u001b[0m                                 Traceback (most recent call last)",
      "Cell \u001b[1;32mIn[10], line 2\u001b[0m\n\u001b[0;32m      1\u001b[0m \u001b[38;5;66;03m# Pré-processamento\u001b[39;00m\n\u001b[1;32m----> 2\u001b[0m new_customers_df[\u001b[38;5;124m'\u001b[39m\u001b[38;5;124mgender\u001b[39m\u001b[38;5;124m'\u001b[39m] \u001b[38;5;241m=\u001b[39m \u001b[43mnew_customers_df\u001b[49m[\u001b[38;5;124m'\u001b[39m\u001b[38;5;124mgender\u001b[39m\u001b[38;5;124m'\u001b[39m]\u001b[38;5;241m.\u001b[39mmap({\u001b[38;5;124m'\u001b[39m\u001b[38;5;124mFemale\u001b[39m\u001b[38;5;124m'\u001b[39m: \u001b[38;5;241m0\u001b[39m, \u001b[38;5;124m'\u001b[39m\u001b[38;5;124mMale\u001b[39m\u001b[38;5;124m'\u001b[39m: \u001b[38;5;241m1\u001b[39m})\n\u001b[0;32m      3\u001b[0m new_customers_df[\u001b[38;5;124m'\u001b[39m\u001b[38;5;124mPartner\u001b[39m\u001b[38;5;124m'\u001b[39m] \u001b[38;5;241m=\u001b[39m new_customers_df[\u001b[38;5;124m'\u001b[39m\u001b[38;5;124mPartner\u001b[39m\u001b[38;5;124m'\u001b[39m]\u001b[38;5;241m.\u001b[39mmap({\u001b[38;5;124m'\u001b[39m\u001b[38;5;124mNo\u001b[39m\u001b[38;5;124m'\u001b[39m: \u001b[38;5;241m0\u001b[39m, \u001b[38;5;124m'\u001b[39m\u001b[38;5;124mYes\u001b[39m\u001b[38;5;124m'\u001b[39m: \u001b[38;5;241m1\u001b[39m})\n\u001b[0;32m      4\u001b[0m new_customers_df[\u001b[38;5;124m'\u001b[39m\u001b[38;5;124mDependents\u001b[39m\u001b[38;5;124m'\u001b[39m] \u001b[38;5;241m=\u001b[39m new_customers_df[\u001b[38;5;124m'\u001b[39m\u001b[38;5;124mDependents\u001b[39m\u001b[38;5;124m'\u001b[39m]\u001b[38;5;241m.\u001b[39mmap({\u001b[38;5;124m'\u001b[39m\u001b[38;5;124mNo\u001b[39m\u001b[38;5;124m'\u001b[39m: \u001b[38;5;241m0\u001b[39m, \u001b[38;5;124m'\u001b[39m\u001b[38;5;124mYes\u001b[39m\u001b[38;5;124m'\u001b[39m: \u001b[38;5;241m1\u001b[39m})\n",
      "\u001b[1;31mNameError\u001b[0m: name 'new_customers_df' is not defined"
     ]
    }
   ],
   "source": [
    "# Pré-processamento\n",
    "new_customers_df['gender'] = new_customers_df['gender'].map({'Female': 0, 'Male': 1})\n",
    "new_customers_df['Partner'] = new_customers_df['Partner'].map({'No': 0, 'Yes': 1})\n",
    "new_customers_df['Dependents'] = new_customers_df['Dependents'].map({'No': 0, 'Yes': 1})\n",
    "new_customers_df['PhoneService'] = new_customers_df['PhoneService'].map({'No': 0, 'Yes': 1})\n",
    "new_customers_df['PaperlessBilling'] = new_customers_df['PaperlessBilling'].map({'No': 0, 'Yes': 1})\n",
    "    \n",
    "new_customers_df = pd.get_dummies(new_customers_df, columns=[\n",
    "    'MultipleLines', 'OnlineSecurity', 'OnlineBackup', 'DeviceProtection',\n",
    "    'TechSupport', 'StreamingTV', 'StreamingMovies', 'Contract',\n",
    "    'PaymentMethod', 'InternetService'\n",
    "], drop_first=True)\n",
    "    \n",
    "numeric_cols = ['tenure', 'MonthlyCharges', 'TotalCharges']\n",
    "new_customers_df[numeric_cols] = scaler.transform(new_customers_df[numeric_cols])\n",
    "    \n",
    "new_customers_aligned = new_customers_df.reindex(columns=X_train.columns, fill_value=0)"
   ]
  },
  {
   "cell_type": "code",
   "execution_count": null,
   "id": "5591411c",
   "metadata": {},
   "outputs": [],
   "source": [
    "# Previsão\n",
    "churn_probabilities = final_model_v2.predict_proba(new_customers_aligned)[:, 1]\n",
    "optimized_threshold = metrics_v2['best_threshold']\n",
    "churn_predictions = (churn_probabilities >= optimized_threshold).astype(int)\n",
    "\n",
    "new_customers_df['Probability of Churn'] = churn_probabilities\n",
    "new_customers_df['Predicted Churn'] = label_encoder_churn.inverse_transform(churn_predictions)\n",
    "    \n",
    "print(\"✅ Previsões realizadas com sucesso com a versão 2.\")\n",
    "print(\"\\nResultados da Simulação:\")\n",
    "print(new_customers_df[['Probability of Churn', 'Predicted Churn']])"
   ]
  },
  {
   "cell_type": "code",
   "execution_count": null,
   "id": "2a688a03",
   "metadata": {},
   "outputs": [],
   "source": [
    "# ------------------------------------------------------------------------------\n",
    "# 3. Análise SHAP para a Simulação\n",
    "# ------------------------------------------------------------------------------\n",
    "print(\"\\n--- Análise de Interpretabilidade (SHAP) para os Clientes Simulados ---\")\n",
    "    \n",
    "simulated_shap_values = explainer_v2.shap_values(new_customers_aligned)\n",
    "    \n",
    "for i, row in new_customers_aligned.iterrows():\n",
    "    print(f\"\\nExplicação da Previsão para o Cliente #{i+1}:\")\n",
    "    shap.initjs()\n",
    "    # Visualização com SHAP para a classe 'Churn' (classe 1)\n",
    "    display(shap.force_plot(explainer_v2.expected_value[1], simulated_shap_values[1][i], row, show=False, matplotlib=True))\n",
    "    plt.tight_layout()\n",
    "    plt.savefig(os.path.join(PLOTS_V2_PATH, f'shap_force_plot_cliente_{i+1}.png'))\n",
    "    plt.show()"
   ]
  },
  {
   "cell_type": "code",
   "execution_count": null,
   "id": "c6b15c8d",
   "metadata": {},
   "outputs": [],
   "source": [
    "# ------------------------------------------------------------------------------\n",
    "# 4. Comparação de Resultados e Conclusão\n",
    "# ------------------------------------------------------------------------------\n",
    "print(\"\\n--- Conclusão do Projeto (Comparação V1 vs. V2) ---\")\n",
    "    \n",
    "if final_model_v1 is not None:\n",
    "    comparison_metrics = pd.DataFrame({\n",
    "        'Métrica': ['Precisão', 'Recall', 'F1-Score', 'AUC'],\n",
    "        'Modelo Otimizado (V1)': [\n",
    "            metrics_v1['precision'],\n",
    "            metrics_v1['recall'],\n",
    "            metrics_v1['f1-score'],\n",
    "            metrics_v1['auc_score']\n",
    "        ],\n",
    "        'Modelo Otimizado (V2)': [\n",
    "            metrics_v2['precision'],\n",
    "            metrics_v2['recall'],\n",
    "            metrics_v2['f1-score'],\n",
    "            metrics_v2['auc_score']\n",
    "        ]\n",
    "    })\n",
    "    print(\"Comparação de Métricas de Desempenho:\")\n",
    "    print(comparison_metrics)\n",
    "    \n",
    "print(\"\\nProcesso do Notebook 4 (v2) concluído com sucesso!\")"
   ]
  }
 ],
 "metadata": {
  "kernelspec": {
   "display_name": "Python 3",
   "language": "python",
   "name": "python3"
  },
  "language_info": {
   "codemirror_mode": {
    "name": "ipython",
    "version": 3
   },
   "file_extension": ".py",
   "mimetype": "text/x-python",
   "name": "python",
   "nbconvert_exporter": "python",
   "pygments_lexer": "ipython3",
   "version": "3.10.11"
  }
 },
 "nbformat": 4,
 "nbformat_minor": 5
}
