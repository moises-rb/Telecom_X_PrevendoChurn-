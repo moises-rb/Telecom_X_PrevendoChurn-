{
 "cells": [
  {
   "cell_type": "code",
   "execution_count": 45,
   "id": "71a3925b",
   "metadata": {},
   "outputs": [],
   "source": [
    "# ==============================================================================\n",
    "# Notebook 4: Simulação de Novos Clientes e Conclusão\n",
    "# ==============================================================================\n",
    "\n",
    "# ------------------------------------------------------------------------------\n",
    "# 1. Configuração e Carregamento de Bibliotecas e Artefatos\n",
    "# ------------------------------------------------------------------------------\n",
    "import pandas as pd\n",
    "import numpy as np\n",
    "import joblib\n",
    "import os\n",
    "import json"
   ]
  },
  {
   "cell_type": "code",
   "execution_count": 46,
   "id": "f6f9f2ef",
   "metadata": {},
   "outputs": [],
   "source": [
    "# --- Definindo os caminhos conforme a estrutura de diretórios ---\n",
    "ROOT_DIR = os.path.abspath(os.path.join(os.getcwd(), '..'))\n",
    "\n",
    "FINAL_MODEL_PATH = os.path.join(ROOT_DIR, 'models', 'final_model', 'random_forest_final.pkl')\n",
    "PREPROCESSING_PATH = os.path.join(ROOT_DIR, 'models', 'preprocessing')\n",
    "REPORTS_PATH = os.path.join(ROOT_DIR, 'reports')\n"
   ]
  },
  {
   "cell_type": "code",
   "execution_count": 47,
   "id": "e525721c",
   "metadata": {},
   "outputs": [
    {
     "name": "stdout",
     "output_type": "stream",
     "text": [
      "Carregando modelo final e objetos de pré-processamento...\n",
      "✅ Artefatos carregados com sucesso.\n"
     ]
    }
   ],
   "source": [
    "# Carregando o modelo final e os objetos de pré-processamento\n",
    "print(\"Carregando modelo final e objetos de pré-processamento...\")\n",
    "try:\n",
    "    final_model = joblib.load(FINAL_MODEL_PATH)\n",
    "    scaler = joblib.load(os.path.join(PREPROCESSING_PATH, 'standard_scaler.pkl'))\n",
    "    label_encoder_churn = joblib.load(os.path.join(PREPROCESSING_PATH, 'label_encoder_churn.pkl'))\n",
    "    print(\"✅ Artefatos carregados com sucesso.\")\n",
    "except FileNotFoundError as e:\n",
    "    print(f\"❌ Erro ao carregar artefatos: {e}. Certifique-se de ter executado os notebooks anteriores.\")\n",
    "    final_model, scaler, label_encoder_churn = None, None, None\n"
   ]
  },
  {
   "cell_type": "code",
   "execution_count": 48,
   "id": "21c362cd",
   "metadata": {},
   "outputs": [
    {
     "name": "stdout",
     "output_type": "stream",
     "text": [
      "\n",
      "Simulando novos dados de clientes...\n"
     ]
    }
   ],
   "source": [
    "# ------------------------------------------------------------------------------\n",
    "# 2. Simulação de Novos Dados\n",
    "# ------------------------------------------------------------------------------\n",
    "if final_model is not None:\n",
    "    print(\"\\nSimulando novos dados de clientes...\")\n",
    "    \n",
    "    # Criando um DataFrame com novos dados simulados\n",
    "    new_customers_data = {\n",
    "        'gender': ['Female', 'Male', 'Female', 'Male'],\n",
    "        'SeniorCitizen': [0, 1, 0, 1],\n",
    "        'Partner': ['Yes', 'No', 'No', 'Yes'],\n",
    "        'Dependents': ['Yes', 'No', 'No', 'No'],\n",
    "        'tenure': [12, 1, 36, 72],\n",
    "        'PhoneService': ['Yes', 'Yes', 'No', 'Yes'],\n",
    "        'MultipleLines': ['Yes', 'No', 'No', 'Yes'],\n",
    "        'InternetService': ['Fiber optic', 'DSL', 'DSL', 'Fiber optic'],\n",
    "        'OnlineSecurity': ['No', 'No', 'No', 'Yes'],\n",
    "        'OnlineBackup': ['Yes', 'No', 'No', 'Yes'],\n",
    "        'DeviceProtection': ['No', 'No', 'No', 'Yes'],\n",
    "        'TechSupport': ['No', 'No', 'No', 'Yes'],\n",
    "        'StreamingTV': ['Yes', 'No', 'No', 'Yes'],\n",
    "        'StreamingMovies': ['Yes', 'No', 'No', 'Yes'],\n",
    "        'Contract': ['Month-to-month', 'Month-to-month', 'One year', 'Two year'],\n",
    "        'PaperlessBilling': ['Yes', 'No', 'No', 'Yes'],\n",
    "        'PaymentMethod': ['Electronic check', 'Mailed check', 'Bank transfer (automatic)', 'Credit card (automatic)'],\n",
    "        'MonthlyCharges': [89.0, 45.0, 30.0, 110.0],\n",
    "        'TotalCharges': [1068.0, 45.0, 1080.0, 7920.0]\n",
    "    }\n",
    "    \n",
    "    new_customers_df = pd.DataFrame(new_customers_data)"
   ]
  },
  {
   "cell_type": "code",
   "execution_count": 49,
   "id": "6805604d",
   "metadata": {},
   "outputs": [
    {
     "name": "stdout",
     "output_type": "stream",
     "text": [
      "Pré-processando os novos dados...\n"
     ]
    }
   ],
   "source": [
    "# ------------------------------------------------------------------------------\n",
    "# 3. Pré-processamento dos Novos Dados (utilizando os artefatos salvos)\n",
    "# ------------------------------------------------------------------------------\n",
    "print(\"Pré-processando os novos dados...\")\n",
    "    \n",
    "# Mapeamento binário\n",
    "new_customers_df['gender'] = new_customers_df['gender'].map({'Female': 0, 'Male': 1})\n",
    "new_customers_df['Partner'] = new_customers_df['Partner'].map({'No': 0, 'Yes': 1})\n",
    "new_customers_df['Dependents'] = new_customers_df['Dependents'].map({'No': 0, 'Yes': 1})\n",
    "new_customers_df['PhoneService'] = new_customers_df['PhoneService'].map({'No': 0, 'Yes': 1})\n",
    "new_customers_df['PaperlessBilling'] = new_customers_df['PaperlessBilling'].map({'No': 0, 'Yes': 1})"
   ]
  },
  {
   "cell_type": "code",
   "execution_count": 50,
   "id": "e4f59050",
   "metadata": {},
   "outputs": [],
   "source": [
    " # One-Hot Encoding\n",
    "new_customers_df = pd.get_dummies(new_customers_df, columns=[\n",
    "    'MultipleLines', 'OnlineSecurity', 'OnlineBackup', 'DeviceProtection',\n",
    "    'TechSupport', 'StreamingTV', 'StreamingMovies', 'Contract',\n",
    "    'PaymentMethod', 'InternetService'\n",
    "], drop_first=True)"
   ]
  },
  {
   "cell_type": "code",
   "execution_count": 51,
   "id": "ffba4fbe",
   "metadata": {},
   "outputs": [],
   "source": [
    "# Escalonamento\n",
    "numeric_cols = ['tenure', 'MonthlyCharges', 'TotalCharges']\n",
    "new_customers_df[numeric_cols] = scaler.transform(new_customers_df[numeric_cols])"
   ]
  },
  {
   "cell_type": "code",
   "execution_count": 52,
   "id": "5262b855",
   "metadata": {},
   "outputs": [
    {
     "name": "stdout",
     "output_type": "stream",
     "text": [
      "✅ Novos dados pré-processados e alinhados com sucesso.\n"
     ]
    }
   ],
   "source": [
    "# Garantindo que as colunas estejam na mesma ordem que o X_train\n",
    "# Isso é essencial para a previsão!\n",
    "# A forma mais robusta seria salvar a lista de colunas do X_train no Notebook 2\n",
    "# e carregar aqui. Para simplificar, vamos usar uma lista estática.\n",
    "    \n",
    "# Criação de um X_test dummy para obter a ordem correta das colunas\n",
    "# do One-Hot Encoding que o modelo espera\n",
    "X_train_path = os.path.join(ROOT_DIR, 'data', 'processed', 'split', 'X_train.csv')\n",
    "X_train_df = pd.read_csv(X_train_path)\n",
    "    \n",
    "# Alinhando as colunas\n",
    "new_customers_aligned = new_customers_df.reindex(columns = X_train_df.columns, fill_value=0)\n",
    "print(\"✅ Novos dados pré-processados e alinhados com sucesso.\")"
   ]
  },
  {
   "cell_type": "code",
   "execution_count": 53,
   "id": "239fd154",
   "metadata": {},
   "outputs": [
    {
     "name": "stdout",
     "output_type": "stream",
     "text": [
      "\n",
      "Fazendo a previsão de Churn para os novos clientes...\n",
      "✅ Previsões realizadas com sucesso.\n",
      "\n",
      "Resultados da Simulação:\n",
      "   Probability of Churn Predicted Churn\n",
      "0                  0.72             Yes\n",
      "1                  0.73             Yes\n",
      "2                  0.19              No\n",
      "3                  0.01              No\n"
     ]
    }
   ],
   "source": [
    "# ------------------------------------------------------------------------------\n",
    "# 4. Previsão de Churn com o Modelo Final\n",
    "# ------------------------------------------------------------------------------\n",
    "print(\"\\nFazendo a previsão de Churn para os novos clientes...\")\n",
    "    \n",
    "churn_probabilities = final_model.predict_proba(new_customers_aligned)[:, 1]\n",
    "# Usando o threshold otimizado para a previsão final\n",
    "# É necessário carregar o threshold do arquivo JSON para isso\n",
    "try:\n",
    "    with open(os.path.join(REPORTS_PATH, 'final_model_metrics.json'), 'r') as f:\n",
    "        metrics = json.load(f)\n",
    "    optimized_threshold = metrics['best_threshold']\n",
    "    churn_predictions = (churn_probabilities >= optimized_threshold).astype(int)\n",
    "except FileNotFoundError:\n",
    "    print(\"❌ Erro: Arquivo de métricas do modelo final não encontrado. Usando limiar padrão de 0.5.\")\n",
    "    churn_predictions = final_model.predict(new_customers_aligned)\n",
    "\n",
    "new_customers_df['Probability of Churn'] = churn_probabilities\n",
    "new_customers_df['Predicted Churn (Binary)'] = churn_predictions\n",
    "    \n",
    "new_customers_df['Predicted Churn'] = label_encoder_churn.inverse_transform(churn_predictions)\n",
    "    \n",
    "print(\"✅ Previsões realizadas com sucesso.\")\n",
    "print(\"\\nResultados da Simulação:\")\n",
    "print(new_customers_df[['Probability of Churn', 'Predicted Churn']].head())"
   ]
  },
  {
   "cell_type": "code",
   "execution_count": 54,
   "id": "37329c23",
   "metadata": {},
   "outputs": [
    {
     "name": "stdout",
     "output_type": "stream",
     "text": [
      "\n",
      "--- Conclusão do Projeto ---\n",
      "\n",
      "Sumário de Performance dos Modelos:\n",
      "Modelo Base (Random Forest) vs. Modelo Final Otimizado:\n",
      "    Métrica  Modelo Base (RF)  Modelo Otimizado (RF)\n",
      "0  Precisão          0.629187               0.702133\n",
      "1    Recall          0.468806               0.754783\n",
      "2  F1-Score          0.537283               0.702134\n",
      "\n",
      "Principais Insights de Negócio (Feature Importance):\n",
      "                          Feature  Importance\n",
      "0                          tenure    0.175106\n",
      "1                    TotalCharges    0.173941\n",
      "2                  MonthlyCharges    0.147675\n",
      "3     InternetService_Fiber optic    0.053770\n",
      "4  PaymentMethod_Electronic check    0.050929\n",
      "\n",
      "Recomendações de Negócio:\n",
      "- Clientes com menor tempo de contrato (`tenure`) e com internet de Fibra Óptica (`InternetService_Fiber optic`) têm maior risco de churn.\n",
      "- Acompanhar de perto clientes com 'Electronic check' como método de pagamento.\n",
      "- Considerar ofertas de retenção para clientes com alta pontuação de risco de churn, especialmente aqueles com as características de maior importância.\n",
      "\n",
      "Processo do Notebook 4 concluído com sucesso! Refatoração finalizada.\n"
     ]
    }
   ],
   "source": [
    "# ------------------------------------------------------------------------------\n",
    "# 5. Conclusão e Comparação de Resultados\n",
    "# ------------------------------------------------------------------------------\n",
    "print(\"\\n--- Conclusão do Projeto ---\")\n",
    "    \n",
    "try:\n",
    "    base_report = pd.read_csv(os.path.join(REPORTS_PATH, 'comparacao_modelos_base.csv'))\n",
    "        \n",
    "    # Carregando as métricas do modelo final do arquivo JSON\n",
    "    with open(os.path.join(REPORTS_PATH, 'final_model_metrics.json'), 'r') as f:\n",
    "        final_metrics = json.load(f)\n",
    "        \n",
    "    print(\"\\nSumário de Performance dos Modelos:\")\n",
    "    print(\"Modelo Base (Random Forest) vs. Modelo Final Otimizado:\")\n",
    "        \n",
    "    base_metrics = base_report[base_report['Modelo'] == 'Random Forest'].iloc[0]\n",
    "        \n",
    "    comparison = pd.DataFrame({\n",
    "        'Métrica': ['Precisão', 'Recall', 'F1-Score'],\n",
    "        'Modelo Base (RF)': [base_metrics['Precisao'], base_metrics['Recall'], base_metrics['F1-Score']],\n",
    "        'Modelo Otimizado (RF)': [final_metrics['precision'], final_metrics['recall'], final_metrics['f1-score']]\n",
    "    })\n",
    "        \n",
    "    print(comparison)\n",
    "        \n",
    "    feature_importance_df = pd.read_csv(os.path.join(REPORTS_PATH, 'feature_importance.csv'))\n",
    "    print(\"\\nPrincipais Insights de Negócio (Feature Importance):\")\n",
    "    print(feature_importance_df.head(5))\n",
    "        \n",
    "    print(\"\\nRecomendações de Negócio:\")\n",
    "    print(\"- Clientes com menor tempo de contrato (`tenure`) e com internet de Fibra Óptica (`InternetService_Fiber optic`) têm maior risco de churn.\")\n",
    "    print(\"- Acompanhar de perto clientes com 'Electronic check' como método de pagamento.\")\n",
    "    print(\"- Considerar ofertas de retenção para clientes com alta pontuação de risco de churn, especialmente aqueles com as características de maior importância.\")\n",
    "        \n",
    "except FileNotFoundError as e:\n",
    "    print(f\"\\n❌ Erro: Não foi possível carregar os relatórios para a comparação. {e}. Certifique-se de que os notebooks anteriores foram executados e salvaram os arquivos corretamente.\")\n",
    "except Exception as e:\n",
    "    print(f\"\\n❌ Erro durante a comparação de modelos: {e}. Verifique o formato dos arquivos de relatório.\")\n",
    "\n",
    "print(\"\\nProcesso do Notebook 4 concluído com sucesso! Refatoração finalizada.\")"
   ]
  }
 ],
 "metadata": {
  "kernelspec": {
   "display_name": "Python 3",
   "language": "python",
   "name": "python3"
  },
  "language_info": {
   "codemirror_mode": {
    "name": "ipython",
    "version": 3
   },
   "file_extension": ".py",
   "mimetype": "text/x-python",
   "name": "python",
   "nbconvert_exporter": "python",
   "pygments_lexer": "ipython3",
   "version": "3.10.11"
  }
 },
 "nbformat": 4,
 "nbformat_minor": 5
}
